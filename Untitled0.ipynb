{
  "nbformat": 4,
  "nbformat_minor": 0,
  "metadata": {
    "colab": {
      "name": "Untitled0.ipynb",
      "version": "0.3.2",
      "provenance": [],
      "include_colab_link": true
    },
    "kernelspec": {
      "name": "python3",
      "display_name": "Python 3"
    }
  },
  "cells": [
    {
      "cell_type": "markdown",
      "metadata": {
        "id": "view-in-github",
        "colab_type": "text"
      },
      "source": [
        "<a href=\"https://colab.research.google.com/github/sanankr/hello-world/blob/master/Untitled0.ipynb\" target=\"_parent\"><img src=\"https://colab.research.google.com/assets/colab-badge.svg\" alt=\"Open In Colab\"/></a>"
      ]
    },
    {
      "cell_type": "markdown",
      "metadata": {
        "id": "wSgAC9UYNi0S",
        "colab_type": "text"
      },
      "source": [
        "## We are about to train a model to predict the nature of given number is prime or not"
      ]
    },
    {
      "cell_type": "code",
      "metadata": {
        "id": "1x2Jyjm7OVDy",
        "colab_type": "code",
        "colab": {}
      },
      "source": [
        "# lets generate input for our model \n",
        "# numbers ranging from 1-100 with nature prime\n",
        "# As we have two states for a number Prime (say 1) or Non prime (say 2)\n",
        "\n",
        "from __future__ import absolute_import, division, print_function, unicode_literals\n",
        "\n",
        "import tensorflow as tf\n",
        "import numpy as np"
      ],
      "execution_count": 0,
      "outputs": []
    },
    {
      "cell_type": "code",
      "metadata": {
        "id": "RHJBlV_0PW3H",
        "colab_type": "code",
        "colab": {}
      },
      "source": [
        "inp = np.arange(1,100);\n",
        "out = np.array([1]);\n",
        "\n",
        "def is_prime(num):\n",
        "  for divisor in range(2,num):\n",
        "    if num%divisor == 0:\n",
        "      return False\n",
        "  return True\n",
        "# end of is_prime function\n",
        "\n",
        "for num in range(2,100):\n",
        "  if is_prime(num):\n",
        "    out = np.insert(out,out.size,1)\n",
        "  else:\n",
        "    out = np.insert(out,out.size,0)\n",
        "  \n",
        "  #print(\"{} - {}\".format(num,out))\n",
        "# end of generating output"
      ],
      "execution_count": 0,
      "outputs": []
    },
    {
      "cell_type": "code",
      "metadata": {
        "id": "Y-ljlk5dVPAW",
        "colab_type": "code",
        "colab": {}
      },
      "source": [
        "# Lets prepare our model with two layers having 4 and 1 perceptron each in sequence\n",
        "\n",
        "l0 = tf.keras.layers.Dense(units=4,input_shape=[1])\n",
        "l1 = tf.keras.layers.Dense(units=1)\n",
        "\n",
        "primeModel = tf.keras.Sequential([l0,l1])\n",
        "primeModel.compile(loss='mean_squared_error', optimizer=tf.keras.optimizers.Adam(0.1))"
      ],
      "execution_count": 0,
      "outputs": []
    },
    {
      "cell_type": "code",
      "metadata": {
        "id": "yApVcfsEXQX3",
        "colab_type": "code",
        "colab": {
          "base_uri": "https://localhost:8080/",
          "height": 300
        },
        "outputId": "b7a6295a-b872-4466-b5be-628a4df098bd"
      },
      "source": [
        "# Lets train our model\n",
        "\n",
        "lossRepo = primeModel.fit(inp, out, epochs=500, verbose=False)\n",
        "\n",
        "# Lets visualise the loss report graph\n",
        "import matplotlib.pyplot as plt\n",
        "plt.xlabel('Epoch Number')\n",
        "plt.ylabel(\"Loss Magnitude\")\n",
        "plt.plot(lossRepo.history['loss'])"
      ],
      "execution_count": 112,
      "outputs": [
        {
          "output_type": "execute_result",
          "data": {
            "text/plain": [
              "[<matplotlib.lines.Line2D at 0x7fc68c8eff28>]"
            ]
          },
          "metadata": {
            "tags": []
          },
          "execution_count": 112
        },
        {
          "output_type": "display_data",
          "data": {
            "image/png": "[encoded data removed]",
            "text/plain": [
              "<Figure size 432x288 with 1 Axes>"
            ]
          },
          "metadata": {
            "tags": []
          }
        }
      ]
    },
    {
      "cell_type": "markdown",
      "metadata": {
        "id": "0r98pXlrXcv8",
        "colab_type": "text"
      },
      "source": [
        ">> If the graph is satisfactory lets start prediction"
      ]
    },
    {
      "cell_type": "code",
      "metadata": {
        "id": "UoyBUpDHYCDB",
        "colab_type": "code",
        "colab": {}
      },
      "source": [
        "# Lets start prediction\n",
        "\n",
        "def primeModelSays(num):\n",
        "  print(\"Model pridicts {}, thus \".format(primeModel.predict([num])))\n",
        "  if primeModel.predict([num]) == 1:\n",
        "    print(\"Model says {}, is Prime.\".format(num))\n",
        "  else:\n",
        "    print(\"Model says {}, is Not prime.\".format(num))\n",
        "# end of function"
      ],
      "execution_count": 0,
      "outputs": []
    },
    {
      "cell_type": "code",
      "metadata": {
        "id": "JcgWYhxdYrHC",
        "colab_type": "code",
        "colab": {
          "base_uri": "https://localhost:8080/",
          "height": 1683
        },
        "outputId": "2b78b13e-2857-4fbd-a669-7e6721b656fa"
      },
      "source": [
        "# Lets check for inputs ranging between 1-100\n",
        "\n",
        "#print(primeModel.get_weights())\n",
        "\n",
        "for num in range(1,50):\n",
        "  primeModelSays(num)\n",
        "# end of iteration"
      ],
      "execution_count": 115,
      "outputs": [
        {
          "output_type": "stream",
          "text": [
            "Model pridicts [[0.3621686]], thus \n",
            "Model says 1, is Not prime.\n",
            "Model pridicts [[0.35705894]], thus \n",
            "Model says 2, is Not prime.\n",
            "Model pridicts [[0.35194927]], thus \n",
            "Model says 3, is Not prime.\n",
            "Model pridicts [[0.34683955]], thus \n",
            "Model says 4, is Not prime.\n",
            "Model pridicts [[0.34172988]], thus \n",
            "Model says 5, is Not prime.\n",
            "Model pridicts [[0.33662015]], thus \n",
            "Model says 6, is Not prime.\n",
            "Model pridicts [[0.33151042]], thus \n",
            "Model says 7, is Not prime.\n",
            "Model pridicts [[0.32640076]], thus \n",
            "Model says 8, is Not prime.\n",
            "Model pridicts [[0.32129097]], thus \n",
            "Model says 9, is Not prime.\n",
            "Model pridicts [[0.3161813]], thus \n",
            "Model says 10, is Not prime.\n",
            "Model pridicts [[0.3110717]], thus \n",
            "Model says 11, is Not prime.\n",
            "Model pridicts [[0.3059619]], thus \n",
            "Model says 12, is Not prime.\n",
            "Model pridicts [[0.30085218]], thus \n",
            "Model says 13, is Not prime.\n",
            "Model pridicts [[0.2957425]], thus \n",
            "Model says 14, is Not prime.\n",
            "Model pridicts [[0.29063284]], thus \n",
            "Model says 15, is Not prime.\n",
            "Model pridicts [[0.28552312]], thus \n",
            "Model says 16, is Not prime.\n",
            "Model pridicts [[0.2804134]], thus \n",
            "Model says 17, is Not prime.\n",
            "Model pridicts [[0.2753036]], thus \n",
            "Model says 18, is Not prime.\n",
            "Model pridicts [[0.27019405]], thus \n",
            "Model says 19, is Not prime.\n",
            "Model pridicts [[0.26508445]], thus \n",
            "Model says 20, is Not prime.\n",
            "Model pridicts [[0.25997454]], thus \n",
            "Model says 21, is Not prime.\n",
            "Model pridicts [[0.25486505]], thus \n",
            "Model says 22, is Not prime.\n",
            "Model pridicts [[0.24975516]], thus \n",
            "Model says 23, is Not prime.\n",
            "Model pridicts [[0.24464561]], thus \n",
            "Model says 24, is Not prime.\n",
            "Model pridicts [[0.23953585]], thus \n",
            "Model says 25, is Not prime.\n",
            "Model pridicts [[0.23442616]], thus \n",
            "Model says 26, is Not prime.\n",
            "Model pridicts [[0.22931652]], thus \n",
            "Model says 27, is Not prime.\n",
            "Model pridicts [[0.22420685]], thus \n",
            "Model says 28, is Not prime.\n",
            "Model pridicts [[0.219097]], thus \n",
            "Model says 29, is Not prime.\n",
            "Model pridicts [[0.21398722]], thus \n",
            "Model says 30, is Not prime.\n",
            "Model pridicts [[0.20887767]], thus \n",
            "Model says 31, is Not prime.\n",
            "Model pridicts [[0.20376788]], thus \n",
            "Model says 32, is Not prime.\n",
            "Model pridicts [[0.19865845]], thus \n",
            "Model says 33, is Not prime.\n",
            "Model pridicts [[0.19354852]], thus \n",
            "Model says 34, is Not prime.\n",
            "Model pridicts [[0.18843882]], thus \n",
            "Model says 35, is Not prime.\n",
            "Model pridicts [[0.18332915]], thus \n",
            "Model says 36, is Not prime.\n",
            "Model pridicts [[0.17821921]], thus \n",
            "Model says 37, is Not prime.\n",
            "Model pridicts [[0.17310955]], thus \n",
            "Model says 38, is Not prime.\n",
            "Model pridicts [[0.16800012]], thus \n",
            "Model says 39, is Not prime.\n",
            "Model pridicts [[0.16289033]], thus \n",
            "Model says 40, is Not prime.\n",
            "Model pridicts [[0.15778048]], thus \n",
            "Model says 41, is Not prime.\n",
            "Model pridicts [[0.15267105]], thus \n",
            "Model says 42, is Not prime.\n",
            "Model pridicts [[0.14756127]], thus \n",
            "Model says 43, is Not prime.\n",
            "Model pridicts [[0.1424516]], thus \n",
            "Model says 44, is Not prime.\n",
            "Model pridicts [[0.13734142]], thus \n",
            "Model says 45, is Not prime.\n",
            "Model pridicts [[0.132232]], thus \n",
            "Model says 46, is Not prime.\n",
            "Model pridicts [[0.1271223]], thus \n",
            "Model says 47, is Not prime.\n",
            "Model pridicts [[0.12201251]], thus \n",
            "Model says 48, is Not prime.\n",
            "Model pridicts [[0.11690296]], thus \n",
            "Model says 49, is Not prime.\n"
          ],
          "name": "stdout"
        }
      ]
    },
    {
      "cell_type": "code",
      "metadata": {
        "id": "fPDCsXGQZTSB",
        "colab_type": "code",
        "colab": {
          "base_uri": "https://localhost:8080/",
          "height": 170
        },
        "outputId": "31699974-7588-40e7-b65b-ee038a95e86c"
      },
      "source": [
        "print(inp)\n",
        "print(out)\n",
        "\n",
        "is_prime(4)"
      ],
      "execution_count": 106,
      "outputs": [
        {
          "output_type": "stream",
          "text": [
            "[ 1  2  3  4  5  6  7  8  9 10 11 12 13 14 15 16 17 18 19 20 21 22 23 24\n",
            " 25 26 27 28 29 30 31 32 33 34 35 36 37 38 39 40 41 42 43 44 45 46 47 48\n",
            " 49 50 51 52 53 54 55 56 57 58 59 60 61 62 63 64 65 66 67 68 69 70 71 72\n",
            " 73 74 75 76 77 78 79 80 81 82 83 84 85 86 87 88 89 90 91 92 93 94 95 96\n",
            " 97 98 99]\n",
            "[1 1 1 0 1 0 1 0 0 0 1 0 1 0 0 0 1 0 1 0 0 0 1 0 0 0 0 0 1 0 1 0 0 0 0 0 1\n",
            " 0 0 0 1 0 1 0 0 0 1 0 0 0 0 0 1 0 0 0 0 0 1 0 1 0 0 0 0 0 1 0 0 0 1 0 1 0\n",
            " 0 0 0 0 1 0 0 0 1 0 0 0 0 0 1 0 0 0 0 0 0 0 1 0 0]\n"
          ],
          "name": "stdout"
        },
        {
          "output_type": "execute_result",
          "data": {
            "text/plain": [
              "False"
            ]
          },
          "metadata": {
            "tags": []
          },
          "execution_count": 106
        }
      ]
    }
  ]
}